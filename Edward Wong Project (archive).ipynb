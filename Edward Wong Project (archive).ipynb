{
 "cells": [
  {
   "cell_type": "code",
   "execution_count": 1,
   "id": "483698c6",
   "metadata": {},
   "outputs": [],
   "source": [
    "#Real-world scenario -- World Population Data source in Kaggle"
   ]
  },
  {
   "cell_type": "code",
   "execution_count": 90,
   "id": "2a0eea5d",
   "metadata": {},
   "outputs": [],
   "source": [
    "#import packages\n",
    "import pandas as pd\n",
    "import numpy as np\n",
    "import matplotlib.pyplot as plt\n",
    "import seaborn as sns\n",
    "import requests\n",
    "import functools as ft"
   ]
  },
  {
   "cell_type": "code",
   "execution_count": 41,
   "id": "300c671a",
   "metadata": {},
   "outputs": [],
   "source": [
    "#import a CSV file into a Pandas DataFrame\n",
    "height_weight_data=pd.read_csv(\"height_weight_data.csv\")\n",
    "iq=pd.read_csv(\"iq.csv\")\n",
    "life_expectancy=pd.read_csv(\"life_expectancy.csv\")\n",
    "population_density=pd.read_csv(\"population_density.csv\")\n",
    "quality_of_life=pd.read_csv(\"quality_of_life.csv\")"
   ]
  },
  {
   "cell_type": "code",
   "execution_count": 57,
   "id": "70605415",
   "metadata": {
    "scrolled": true
   },
   "outputs": [
    {
     "data": {
      "text/plain": [
       "country          0\n",
       "male_height      0\n",
       "female_height    0\n",
       "male_weight      0\n",
       "female_weight    0\n",
       "male_bmi         0\n",
       "female_bmi       0\n",
       "dtype: int64"
      ]
     },
     "execution_count": 57,
     "metadata": {},
     "output_type": "execute_result"
    }
   ],
   "source": [
    "#check missing data\n",
    "height_weight_data.isna().sum()"
   ]
  },
  {
   "cell_type": "code",
   "execution_count": 58,
   "id": "6e4a0f0c",
   "metadata": {},
   "outputs": [
    {
     "name": "stdout",
     "output_type": "stream",
     "text": [
      "                  country  male_height  female_height  male_weight  \\\n",
      "0             Netherlands          184            170         87.9   \n",
      "1              Montenegro          183            170         90.4   \n",
      "2                 Estonia          182            168         89.9   \n",
      "3                 Denmark          182            169         86.8   \n",
      "4  Bosnia and Herzegovina          182            167         87.1   \n",
      "\n",
      "   female_weight  male_bmi  female_bmi  \n",
      "0           73.2      26.1        25.3  \n",
      "1           75.3      27.0        26.2  \n",
      "2           73.7      27.0        26.0  \n",
      "3           70.2      26.3        24.6  \n",
      "4           70.6      26.4        25.3  \n"
     ]
    }
   ],
   "source": [
    "print(height_weight_data.head())"
   ]
  },
  {
   "cell_type": "code",
   "execution_count": 43,
   "id": "c929e15d",
   "metadata": {},
   "outputs": [
    {
     "data": {
      "text/plain": [
       "country                                 0\n",
       "iq                                      0\n",
       "education_expenditure_per_inhabitant    5\n",
       "daily_max_temp                          0\n",
       "dtype: int64"
      ]
     },
     "execution_count": 43,
     "metadata": {},
     "output_type": "execute_result"
    }
   ],
   "source": [
    "#check missing data\n",
    "iq.isna().sum()"
   ]
  },
  {
   "cell_type": "code",
   "execution_count": 59,
   "id": "4e3f27d9",
   "metadata": {},
   "outputs": [
    {
     "name": "stdout",
     "output_type": "stream",
     "text": [
      "       country   iq  education_expenditure_per_inhabitant  daily_max_temp\n",
      "0    Singapore  108                                 908.0            31.5\n",
      "1    Hong Kong  108                                 915.0            26.2\n",
      "2       Taiwan  106                                   NaN            26.9\n",
      "3  South Korea  106                                 537.0            18.2\n",
      "4        Japan  105                                1258.0            19.2\n"
     ]
    }
   ],
   "source": [
    "print(iq.head())"
   ]
  },
  {
   "cell_type": "code",
   "execution_count": 44,
   "id": "dad5ec6d",
   "metadata": {
    "scrolled": true
   },
   "outputs": [
    {
     "data": {
      "text/plain": [
       "country                   0\n",
       "male_life_expectancy      0\n",
       "female_life_expectancy    0\n",
       "birth_rate                0\n",
       "death_rate                0\n",
       "dtype: int64"
      ]
     },
     "execution_count": 44,
     "metadata": {},
     "output_type": "execute_result"
    }
   ],
   "source": [
    "#check missing data\n",
    "life_expectancy.isna().sum()"
   ]
  },
  {
   "cell_type": "code",
   "execution_count": 60,
   "id": "4c53eb63",
   "metadata": {},
   "outputs": [
    {
     "name": "stdout",
     "output_type": "stream",
     "text": [
      "     country  male_life_expectancy  female_life_expectancy  birth_rate  \\\n",
      "0  Hong Kong                  82.9                    88.0         5.8   \n",
      "1    Iceland                  81.7                    84.5        12.3   \n",
      "2      Japan                  81.6                    87.7         6.8   \n",
      "3     Norway                  81.6                    84.9         9.8   \n",
      "4  Singapore                  81.5                    86.1         8.5   \n",
      "\n",
      "   death_rate  \n",
      "0         6.8  \n",
      "1         7.8  \n",
      "2         8.8  \n",
      "3         9.8  \n",
      "4        10.8  \n"
     ]
    }
   ],
   "source": [
    "print(life_expectancy.head())"
   ]
  },
  {
   "cell_type": "code",
   "execution_count": 45,
   "id": "1ff9e09a",
   "metadata": {},
   "outputs": [
    {
     "data": {
      "text/plain": [
       "country          0\n",
       "area             0\n",
       "population       0\n",
       "pop_per_km_sq    0\n",
       "dtype: int64"
      ]
     },
     "execution_count": 45,
     "metadata": {},
     "output_type": "execute_result"
    }
   ],
   "source": [
    "#check missing data\n",
    "population_density.isna().sum()"
   ]
  },
  {
   "cell_type": "code",
   "execution_count": 61,
   "id": "f962e531",
   "metadata": {},
   "outputs": [
    {
     "name": "stdout",
     "output_type": "stream",
     "text": [
      "      country    area population  pop_per_km_sq\n",
      "0      Macao     30.0     0.66 M        21657.6\n",
      "1      Monaco     2.0     0.04 M        19564.4\n",
      "2   Singapore   719.0     5.45 M         7584.9\n",
      "3  Hong Kong   1110.0     7.41 M         6678.5\n",
      "4  Gibraltar      6.8     0.03 M         4954.6\n"
     ]
    }
   ],
   "source": [
    "print(population_density.head())"
   ]
  },
  {
   "cell_type": "code",
   "execution_count": 46,
   "id": "9ca2f249",
   "metadata": {},
   "outputs": [
    {
     "data": {
      "text/plain": [
       "country       0\n",
       "stability     0\n",
       "rights        0\n",
       "health        0\n",
       "safety        0\n",
       "climate       0\n",
       "costs         0\n",
       "popularity    0\n",
       "dtype: int64"
      ]
     },
     "execution_count": 46,
     "metadata": {},
     "output_type": "execute_result"
    }
   ],
   "source": [
    "#check missing data\n",
    "quality_of_life.isna().sum()"
   ]
  },
  {
   "cell_type": "code",
   "execution_count": 62,
   "id": "9fa5fb2c",
   "metadata": {},
   "outputs": [
    {
     "name": "stdout",
     "output_type": "stream",
     "text": [
      "       country  stability  rights  health  safety  climate  costs  popularity\n",
      "0    Australia         86      92      87     100       90     23          41\n",
      "1    Hong Kong         77      85     100      97       49     61          52\n",
      "2   San Marino         81      82      91      87       62     61          46\n",
      "3        Macao         90      71     100      93       48     61          50\n",
      "4  Switzerland         91      99      93      99       34     44          40\n"
     ]
    }
   ],
   "source": [
    "print(quality_of_life.head())"
   ]
  },
  {
   "cell_type": "code",
   "execution_count": 47,
   "id": "9a0105b9",
   "metadata": {},
   "outputs": [
    {
     "name": "stdout",
     "output_type": "stream",
     "text": [
      "<class 'pandas.core.frame.DataFrame'>\n",
      "RangeIndex: 108 entries, 0 to 107\n",
      "Data columns (total 4 columns):\n",
      " #   Column                                Non-Null Count  Dtype  \n",
      "---  ------                                --------------  -----  \n",
      " 0   country                               108 non-null    object \n",
      " 1   iq                                    108 non-null    int64  \n",
      " 2   education_expenditure_per_inhabitant  103 non-null    object \n",
      " 3   daily_max_temp                        108 non-null    float64\n",
      "dtypes: float64(1), int64(1), object(2)\n",
      "memory usage: 3.5+ KB\n"
     ]
    }
   ],
   "source": [
    "#only \"iq\" dataframe got missing data, have to replace missing value, so firstly check \"iq\" type details\n",
    "iq.info()"
   ]
  },
  {
   "cell_type": "code",
   "execution_count": 48,
   "id": "3c5011fa",
   "metadata": {},
   "outputs": [],
   "source": [
    "#convert education_expenditure_per_inhabitant from object to float, firstly replace comma\n",
    "iq['education_expenditure_per_inhabitant']=iq['education_expenditure_per_inhabitant'].str.replace(',', '')"
   ]
  },
  {
   "cell_type": "code",
   "execution_count": 51,
   "id": "5da92392",
   "metadata": {},
   "outputs": [],
   "source": [
    "#convert education_expenditure_per_inhabitant from object to float\n",
    "iq['education_expenditure_per_inhabitant']=iq['education_expenditure_per_inhabitant'].astype(float)"
   ]
  },
  {
   "cell_type": "code",
   "execution_count": 52,
   "id": "53b24481",
   "metadata": {
    "scrolled": false
   },
   "outputs": [
    {
     "name": "stdout",
     "output_type": "stream",
     "text": [
      "<class 'pandas.core.frame.DataFrame'>\n",
      "RangeIndex: 108 entries, 0 to 107\n",
      "Data columns (total 4 columns):\n",
      " #   Column                                Non-Null Count  Dtype  \n",
      "---  ------                                --------------  -----  \n",
      " 0   country                               108 non-null    object \n",
      " 1   iq                                    108 non-null    int64  \n",
      " 2   education_expenditure_per_inhabitant  103 non-null    float64\n",
      " 3   daily_max_temp                        108 non-null    float64\n",
      "dtypes: float64(2), int64(1), object(1)\n",
      "memory usage: 3.5+ KB\n"
     ]
    }
   ],
   "source": [
    "#check \"iq\" details, now education_expenditure_per_inhabitant type = float\n",
    "iq.info()"
   ]
  },
  {
   "cell_type": "code",
   "execution_count": 54,
   "id": "b678a06d",
   "metadata": {
    "scrolled": true
   },
   "outputs": [
    {
     "data": {
      "text/html": [
       "<div>\n",
       "<style scoped>\n",
       "    .dataframe tbody tr th:only-of-type {\n",
       "        vertical-align: middle;\n",
       "    }\n",
       "\n",
       "    .dataframe tbody tr th {\n",
       "        vertical-align: top;\n",
       "    }\n",
       "\n",
       "    .dataframe thead th {\n",
       "        text-align: right;\n",
       "    }\n",
       "</style>\n",
       "<table border=\"1\" class=\"dataframe\">\n",
       "  <thead>\n",
       "    <tr style=\"text-align: right;\">\n",
       "      <th></th>\n",
       "      <th>iq</th>\n",
       "      <th>education_expenditure_per_inhabitant</th>\n",
       "      <th>daily_max_temp</th>\n",
       "    </tr>\n",
       "  </thead>\n",
       "  <tbody>\n",
       "    <tr>\n",
       "      <th>count</th>\n",
       "      <td>108.000000</td>\n",
       "      <td>103.000000</td>\n",
       "      <td>108.000000</td>\n",
       "    </tr>\n",
       "    <tr>\n",
       "      <th>mean</th>\n",
       "      <td>86.574074</td>\n",
       "      <td>579.932039</td>\n",
       "      <td>23.934259</td>\n",
       "    </tr>\n",
       "    <tr>\n",
       "      <th>std</th>\n",
       "      <td>13.176873</td>\n",
       "      <td>782.630009</td>\n",
       "      <td>7.989504</td>\n",
       "    </tr>\n",
       "    <tr>\n",
       "      <th>min</th>\n",
       "      <td>56.000000</td>\n",
       "      <td>3.000000</td>\n",
       "      <td>7.300000</td>\n",
       "    </tr>\n",
       "    <tr>\n",
       "      <th>25%</th>\n",
       "      <td>81.000000</td>\n",
       "      <td>37.500000</td>\n",
       "      <td>17.675000</td>\n",
       "    </tr>\n",
       "    <tr>\n",
       "      <th>50%</th>\n",
       "      <td>88.000000</td>\n",
       "      <td>167.000000</td>\n",
       "      <td>25.700000</td>\n",
       "    </tr>\n",
       "    <tr>\n",
       "      <th>75%</th>\n",
       "      <td>98.000000</td>\n",
       "      <td>896.500000</td>\n",
       "      <td>30.925000</td>\n",
       "    </tr>\n",
       "    <tr>\n",
       "      <th>max</th>\n",
       "      <td>108.000000</td>\n",
       "      <td>3527.000000</td>\n",
       "      <td>36.500000</td>\n",
       "    </tr>\n",
       "  </tbody>\n",
       "</table>\n",
       "</div>"
      ],
      "text/plain": [
       "               iq  education_expenditure_per_inhabitant  daily_max_temp\n",
       "count  108.000000                            103.000000      108.000000\n",
       "mean    86.574074                            579.932039       23.934259\n",
       "std     13.176873                            782.630009        7.989504\n",
       "min     56.000000                              3.000000        7.300000\n",
       "25%     81.000000                             37.500000       17.675000\n",
       "50%     88.000000                            167.000000       25.700000\n",
       "75%     98.000000                            896.500000       30.925000\n",
       "max    108.000000                           3527.000000       36.500000"
      ]
     },
     "execution_count": 54,
     "metadata": {},
     "output_type": "execute_result"
    }
   ],
   "source": [
    "#check \"iq\" details\n",
    "iq.describe()"
   ]
  },
  {
   "cell_type": "code",
   "execution_count": 65,
   "id": "388e659c",
   "metadata": {},
   "outputs": [],
   "source": [
    "#create full_iq to be the one filled missing edu_expend_per_inhabitant values\n",
    "full_iq=iq"
   ]
  },
  {
   "cell_type": "code",
   "execution_count": 66,
   "id": "aa5a48ac",
   "metadata": {},
   "outputs": [],
   "source": [
    "#replace the missing \"education_expenditure_per_inhabitant\" value by the mean\n",
    "full_iq['education_expenditure_per_inhabitant']=full_iq['education_expenditure_per_inhabitant'].fillna(iq['education_expenditure_per_inhabitant'].mean())"
   ]
  },
  {
   "cell_type": "code",
   "execution_count": 67,
   "id": "4c61966e",
   "metadata": {},
   "outputs": [
    {
     "data": {
      "text/plain": [
       "country                                 0\n",
       "iq                                      0\n",
       "education_expenditure_per_inhabitant    0\n",
       "daily_max_temp                          0\n",
       "dtype: int64"
      ]
     },
     "execution_count": 67,
     "metadata": {},
     "output_type": "execute_result"
    }
   ],
   "source": [
    "#check \"full_iq\" missing values\n",
    "full_iq.isna().sum()"
   ]
  },
  {
   "cell_type": "code",
   "execution_count": 68,
   "id": "141ef1b7",
   "metadata": {},
   "outputs": [
    {
     "name": "stdout",
     "output_type": "stream",
     "text": [
      "       country   iq  education_expenditure_per_inhabitant  daily_max_temp\n",
      "0    Singapore  108                            908.000000            31.5\n",
      "1    Hong Kong  108                            915.000000            26.2\n",
      "2       Taiwan  106                            579.932039            26.9\n",
      "3  South Korea  106                            537.000000            18.2\n",
      "4        Japan  105                           1258.000000            19.2\n"
     ]
    }
   ],
   "source": [
    "print(full_iq.head())"
   ]
  },
  {
   "cell_type": "code",
   "execution_count": 77,
   "id": "b9c50d10",
   "metadata": {
    "scrolled": true
   },
   "outputs": [
    {
     "data": {
      "text/plain": [
       "((126, 7), (108, 4), (115, 5), (91, 4), (137, 8))"
      ]
     },
     "execution_count": 77,
     "metadata": {},
     "output_type": "execute_result"
    }
   ],
   "source": [
    "#see the no. of rows & columns in the dataset\n",
    "height_weight_data.shape, full_iq.shape, life_expectancy.shape, population_density.shape, quality_of_life.shape"
   ]
  },
  {
   "cell_type": "code",
   "execution_count": 89,
   "id": "55f799bb",
   "metadata": {},
   "outputs": [],
   "source": [
    "#create a List for all dataframe\n",
    "df = [height_weight_data, full_iq, life_expectancy, population_density, quality_of_life]"
   ]
  },
  {
   "cell_type": "code",
   "execution_count": 92,
   "id": "f2e67d41",
   "metadata": {},
   "outputs": [],
   "source": [
    "#merge the dataframe - only contains the country exists in all dataset\n",
    "df_final = ft.reduce(lambda left, right: pd.merge(left, right, on='country'), df)"
   ]
  },
  {
   "cell_type": "code",
   "execution_count": 93,
   "id": "5a091061",
   "metadata": {},
   "outputs": [
    {
     "data": {
      "text/plain": [
       "(55, 24)"
      ]
     },
     "execution_count": 93,
     "metadata": {},
     "output_type": "execute_result"
    }
   ],
   "source": [
    "#check the rows & column of \"df_final\"\n",
    "df_final.shape"
   ]
  },
  {
   "cell_type": "code",
   "execution_count": null,
   "id": "036751a6",
   "metadata": {},
   "outputs": [],
   "source": []
  }
 ],
 "metadata": {
  "kernelspec": {
   "display_name": "Python 3 (ipykernel)",
   "language": "python",
   "name": "python3"
  },
  "language_info": {
   "codemirror_mode": {
    "name": "ipython",
    "version": 3
   },
   "file_extension": ".py",
   "mimetype": "text/x-python",
   "name": "python",
   "nbconvert_exporter": "python",
   "pygments_lexer": "ipython3",
   "version": "3.9.12"
  }
 },
 "nbformat": 4,
 "nbformat_minor": 5
}
