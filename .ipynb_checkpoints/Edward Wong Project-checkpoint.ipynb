{
 "cells": [
  {
   "cell_type": "code",
   "execution_count": 8,
   "id": "631e8fbd",
   "metadata": {},
   "outputs": [],
   "source": [
    "#import packages\n",
    "import numpy as np\n",
    "import pandas as pd\n",
    "import matplotlib.pyplot as plt\n",
    "import seaborn as sns\n",
    "import re"
   ]
  },
  {
   "cell_type": "code",
   "execution_count": 9,
   "id": "09edec2f",
   "metadata": {},
   "outputs": [],
   "source": [
    "#import csv\n",
    "df=pd.read_csv(\"cab_rides.csv\")"
   ]
  },
  {
   "cell_type": "code",
   "execution_count": 47,
   "id": "0fa519c9",
   "metadata": {},
   "outputs": [
    {
     "data": {
      "text/html": [
       "<div>\n",
       "<style scoped>\n",
       "    .dataframe tbody tr th:only-of-type {\n",
       "        vertical-align: middle;\n",
       "    }\n",
       "\n",
       "    .dataframe tbody tr th {\n",
       "        vertical-align: top;\n",
       "    }\n",
       "\n",
       "    .dataframe thead th {\n",
       "        text-align: right;\n",
       "    }\n",
       "</style>\n",
       "<table border=\"1\" class=\"dataframe\">\n",
       "  <thead>\n",
       "    <tr style=\"text-align: right;\">\n",
       "      <th></th>\n",
       "      <th>distance</th>\n",
       "      <th>cab_type</th>\n",
       "      <th>time_stamp</th>\n",
       "      <th>destination</th>\n",
       "      <th>source</th>\n",
       "      <th>price</th>\n",
       "      <th>surge_multiplier</th>\n",
       "      <th>id</th>\n",
       "      <th>product_id</th>\n",
       "      <th>name</th>\n",
       "      <th>product_name</th>\n",
       "    </tr>\n",
       "  </thead>\n",
       "  <tbody>\n",
       "    <tr>\n",
       "      <th>0</th>\n",
       "      <td>0.44</td>\n",
       "      <td>Lyft</td>\n",
       "      <td>1544952607890</td>\n",
       "      <td>North Station</td>\n",
       "      <td>Haymarket Square</td>\n",
       "      <td>5.0</td>\n",
       "      <td>1.0</td>\n",
       "      <td>424553bb-7174-41ea-aeb4-fe06d4f4b9d7</td>\n",
       "      <td>lyft_line</td>\n",
       "      <td>Shared</td>\n",
       "      <td>Lyft-Shared</td>\n",
       "    </tr>\n",
       "    <tr>\n",
       "      <th>1</th>\n",
       "      <td>0.44</td>\n",
       "      <td>Lyft</td>\n",
       "      <td>1543284023677</td>\n",
       "      <td>North Station</td>\n",
       "      <td>Haymarket Square</td>\n",
       "      <td>11.0</td>\n",
       "      <td>1.0</td>\n",
       "      <td>4bd23055-6827-41c6-b23b-3c491f24e74d</td>\n",
       "      <td>lyft_premier</td>\n",
       "      <td>Lux</td>\n",
       "      <td>Lyft-Lux</td>\n",
       "    </tr>\n",
       "    <tr>\n",
       "      <th>2</th>\n",
       "      <td>0.44</td>\n",
       "      <td>Lyft</td>\n",
       "      <td>1543366822198</td>\n",
       "      <td>North Station</td>\n",
       "      <td>Haymarket Square</td>\n",
       "      <td>7.0</td>\n",
       "      <td>1.0</td>\n",
       "      <td>981a3613-77af-4620-a42a-0c0866077d1e</td>\n",
       "      <td>lyft</td>\n",
       "      <td>Lyft</td>\n",
       "      <td>Lyft-Lyft</td>\n",
       "    </tr>\n",
       "    <tr>\n",
       "      <th>3</th>\n",
       "      <td>0.44</td>\n",
       "      <td>Lyft</td>\n",
       "      <td>1543553582749</td>\n",
       "      <td>North Station</td>\n",
       "      <td>Haymarket Square</td>\n",
       "      <td>26.0</td>\n",
       "      <td>1.0</td>\n",
       "      <td>c2d88af2-d278-4bfd-a8d0-29ca77cc5512</td>\n",
       "      <td>lyft_luxsuv</td>\n",
       "      <td>Lux Black XL</td>\n",
       "      <td>Lyft-Lux Black XL</td>\n",
       "    </tr>\n",
       "    <tr>\n",
       "      <th>4</th>\n",
       "      <td>0.44</td>\n",
       "      <td>Lyft</td>\n",
       "      <td>1543463360223</td>\n",
       "      <td>North Station</td>\n",
       "      <td>Haymarket Square</td>\n",
       "      <td>9.0</td>\n",
       "      <td>1.0</td>\n",
       "      <td>e0126e1f-8ca9-4f2e-82b3-50505a09db9a</td>\n",
       "      <td>lyft_plus</td>\n",
       "      <td>Lyft XL</td>\n",
       "      <td>Lyft-Lyft XL</td>\n",
       "    </tr>\n",
       "  </tbody>\n",
       "</table>\n",
       "</div>"
      ],
      "text/plain": [
       "   distance cab_type     time_stamp    destination            source  price  \\\n",
       "0      0.44     Lyft  1544952607890  North Station  Haymarket Square    5.0   \n",
       "1      0.44     Lyft  1543284023677  North Station  Haymarket Square   11.0   \n",
       "2      0.44     Lyft  1543366822198  North Station  Haymarket Square    7.0   \n",
       "3      0.44     Lyft  1543553582749  North Station  Haymarket Square   26.0   \n",
       "4      0.44     Lyft  1543463360223  North Station  Haymarket Square    9.0   \n",
       "\n",
       "   surge_multiplier                                    id    product_id  \\\n",
       "0               1.0  424553bb-7174-41ea-aeb4-fe06d4f4b9d7     lyft_line   \n",
       "1               1.0  4bd23055-6827-41c6-b23b-3c491f24e74d  lyft_premier   \n",
       "2               1.0  981a3613-77af-4620-a42a-0c0866077d1e          lyft   \n",
       "3               1.0  c2d88af2-d278-4bfd-a8d0-29ca77cc5512   lyft_luxsuv   \n",
       "4               1.0  e0126e1f-8ca9-4f2e-82b3-50505a09db9a     lyft_plus   \n",
       "\n",
       "           name       product_name  \n",
       "0        Shared        Lyft-Shared  \n",
       "1           Lux           Lyft-Lux  \n",
       "2          Lyft          Lyft-Lyft  \n",
       "3  Lux Black XL  Lyft-Lux Black XL  \n",
       "4       Lyft XL       Lyft-Lyft XL  "
      ]
     },
     "execution_count": 47,
     "metadata": {},
     "output_type": "execute_result"
    }
   ],
   "source": [
    "#first 5 rows in the dataframe\n",
    "df.head()"
   ]
  },
  {
   "cell_type": "code",
   "execution_count": 48,
   "id": "294a2c8f",
   "metadata": {
    "scrolled": true
   },
   "outputs": [
    {
     "data": {
      "text/html": [
       "<div>\n",
       "<style scoped>\n",
       "    .dataframe tbody tr th:only-of-type {\n",
       "        vertical-align: middle;\n",
       "    }\n",
       "\n",
       "    .dataframe tbody tr th {\n",
       "        vertical-align: top;\n",
       "    }\n",
       "\n",
       "    .dataframe thead th {\n",
       "        text-align: right;\n",
       "    }\n",
       "</style>\n",
       "<table border=\"1\" class=\"dataframe\">\n",
       "  <thead>\n",
       "    <tr style=\"text-align: right;\">\n",
       "      <th></th>\n",
       "      <th>distance</th>\n",
       "      <th>time_stamp</th>\n",
       "      <th>price</th>\n",
       "      <th>surge_multiplier</th>\n",
       "    </tr>\n",
       "  </thead>\n",
       "  <tbody>\n",
       "    <tr>\n",
       "      <th>count</th>\n",
       "      <td>693071.000000</td>\n",
       "      <td>6.930710e+05</td>\n",
       "      <td>693071.000000</td>\n",
       "      <td>693071.000000</td>\n",
       "    </tr>\n",
       "    <tr>\n",
       "      <th>mean</th>\n",
       "      <td>2.189430</td>\n",
       "      <td>1.544046e+12</td>\n",
       "      <td>16.494860</td>\n",
       "      <td>1.013870</td>\n",
       "    </tr>\n",
       "    <tr>\n",
       "      <th>std</th>\n",
       "      <td>1.138937</td>\n",
       "      <td>6.891925e+08</td>\n",
       "      <td>9.277645</td>\n",
       "      <td>0.091641</td>\n",
       "    </tr>\n",
       "    <tr>\n",
       "      <th>min</th>\n",
       "      <td>0.020000</td>\n",
       "      <td>1.543204e+12</td>\n",
       "      <td>2.500000</td>\n",
       "      <td>1.000000</td>\n",
       "    </tr>\n",
       "    <tr>\n",
       "      <th>25%</th>\n",
       "      <td>1.280000</td>\n",
       "      <td>1.543444e+12</td>\n",
       "      <td>9.000000</td>\n",
       "      <td>1.000000</td>\n",
       "    </tr>\n",
       "    <tr>\n",
       "      <th>50%</th>\n",
       "      <td>2.160000</td>\n",
       "      <td>1.543737e+12</td>\n",
       "      <td>13.500000</td>\n",
       "      <td>1.000000</td>\n",
       "    </tr>\n",
       "    <tr>\n",
       "      <th>75%</th>\n",
       "      <td>2.920000</td>\n",
       "      <td>1.544828e+12</td>\n",
       "      <td>22.500000</td>\n",
       "      <td>1.000000</td>\n",
       "    </tr>\n",
       "    <tr>\n",
       "      <th>max</th>\n",
       "      <td>7.860000</td>\n",
       "      <td>1.545161e+12</td>\n",
       "      <td>97.500000</td>\n",
       "      <td>3.000000</td>\n",
       "    </tr>\n",
       "  </tbody>\n",
       "</table>\n",
       "</div>"
      ],
      "text/plain": [
       "            distance    time_stamp          price  surge_multiplier\n",
       "count  693071.000000  6.930710e+05  693071.000000     693071.000000\n",
       "mean        2.189430  1.544046e+12      16.494860          1.013870\n",
       "std         1.138937  6.891925e+08       9.277645          0.091641\n",
       "min         0.020000  1.543204e+12       2.500000          1.000000\n",
       "25%         1.280000  1.543444e+12       9.000000          1.000000\n",
       "50%         2.160000  1.543737e+12      13.500000          1.000000\n",
       "75%         2.920000  1.544828e+12      22.500000          1.000000\n",
       "max         7.860000  1.545161e+12      97.500000          3.000000"
      ]
     },
     "execution_count": 48,
     "metadata": {},
     "output_type": "execute_result"
    }
   ],
   "source": [
    "df.describe()"
   ]
  },
  {
   "cell_type": "code",
   "execution_count": 51,
   "id": "80c9c95b",
   "metadata": {
    "scrolled": false
   },
   "outputs": [
    {
     "name": "stdout",
     "output_type": "stream",
     "text": [
      "<class 'pandas.core.frame.DataFrame'>\n",
      "RangeIndex: 693071 entries, 0 to 693070\n",
      "Data columns (total 11 columns):\n",
      " #   Column            Non-Null Count   Dtype  \n",
      "---  ------            --------------   -----  \n",
      " 0   distance          693071 non-null  float64\n",
      " 1   cab_type          693071 non-null  object \n",
      " 2   time_stamp        693071 non-null  int64  \n",
      " 3   destination       693071 non-null  object \n",
      " 4   source            693071 non-null  object \n",
      " 5   price             693071 non-null  float64\n",
      " 6   surge_multiplier  693071 non-null  float64\n",
      " 7   id                693071 non-null  object \n",
      " 8   product_id        693071 non-null  object \n",
      " 9   name              693071 non-null  object \n",
      " 10  product_name      693071 non-null  object \n",
      "dtypes: float64(3), int64(1), object(7)\n",
      "memory usage: 58.2+ MB\n"
     ]
    }
   ],
   "source": [
    "df.info()"
   ]
  },
  {
   "cell_type": "code",
   "execution_count": 27,
   "id": "85b44d36",
   "metadata": {
    "scrolled": false
   },
   "outputs": [
    {
     "data": {
      "text/plain": [
       "array(['lyft_line', 'lyft_premier', 'lyft', 'lyft_luxsuv', 'lyft_plus',\n",
       "       'lyft_lux', '6f72dfc5-27f1-42e8-84db-ccc7a75f6969',\n",
       "       '6c84fd89-3f11-4782-9b50-97c468b19529',\n",
       "       '55c66225-fbe7-4fd5-9072-eab1ece5e23e',\n",
       "       '9a0e7b09-b92b-4c41-9779-2ad22b4d779d',\n",
       "       '6d318bcc-22a3-4af6-bddd-b409bfce1546',\n",
       "       '997acbb5-e102-41e1-b155-9df7de0a73f2',\n",
       "       '8cf7e821-f0d3-49c6-8eba-e679c0ebcf6a'], dtype=object)"
      ]
     },
     "execution_count": 27,
     "metadata": {},
     "output_type": "execute_result"
    }
   ],
   "source": [
    "#check the list of product type\n",
    "df.product_id.unique()"
   ]
  },
  {
   "cell_type": "code",
   "execution_count": null,
   "id": "d852a993",
   "metadata": {},
   "outputs": [],
   "source": []
  },
  {
   "cell_type": "code",
   "execution_count": 28,
   "id": "7d9ba21c",
   "metadata": {},
   "outputs": [
    {
     "name": "stdout",
     "output_type": "stream",
     "text": [
      "<bound method NDFrame._add_numeric_operations.<locals>.prod of         distance cab_type     time_stamp    destination            source  \\\n",
      "0           0.44     Lyft  1544952607890  North Station  Haymarket Square   \n",
      "1           0.44     Lyft  1543284023677  North Station  Haymarket Square   \n",
      "2           0.44     Lyft  1543366822198  North Station  Haymarket Square   \n",
      "3           0.44     Lyft  1543553582749  North Station  Haymarket Square   \n",
      "4           0.44     Lyft  1543463360223  North Station  Haymarket Square   \n",
      "...          ...      ...            ...            ...               ...   \n",
      "693066      1.00     Uber  1543708385534      North End          West End   \n",
      "693067      1.00     Uber  1543708385534      North End          West End   \n",
      "693068      1.00     Uber  1543708385534      North End          West End   \n",
      "693069      1.00     Uber  1543708385534      North End          West End   \n",
      "693070      1.00     Uber  1543708385534      North End          West End   \n",
      "\n",
      "        price  surge_multiplier                                    id  \\\n",
      "0         5.0               1.0  424553bb-7174-41ea-aeb4-fe06d4f4b9d7   \n",
      "1        11.0               1.0  4bd23055-6827-41c6-b23b-3c491f24e74d   \n",
      "2         7.0               1.0  981a3613-77af-4620-a42a-0c0866077d1e   \n",
      "3        26.0               1.0  c2d88af2-d278-4bfd-a8d0-29ca77cc5512   \n",
      "4         9.0               1.0  e0126e1f-8ca9-4f2e-82b3-50505a09db9a   \n",
      "...       ...               ...                                   ...   \n",
      "693066   13.0               1.0  616d3611-1820-450a-9845-a9ff304a4842   \n",
      "693067    9.5               1.0  633a3fc3-1f86-4b9e-9d48-2b7132112341   \n",
      "693068   27.0               1.0  64d451d0-639f-47a4-9b7c-6fd92fbd264f   \n",
      "693069   27.0               1.0  727e5f07-a96b-4ad1-a2c7-9abc3ad55b4e   \n",
      "693070   10.0               1.0  e7fdc087-fe86-40a5-a3c3-3b2a8badcbda   \n",
      "\n",
      "                                  product_id          name       product_name  \n",
      "0                                  lyft_line        Shared        Lyft-Shared  \n",
      "1                               lyft_premier           Lux           Lyft-Lux  \n",
      "2                                       lyft          Lyft          Lyft-Lyft  \n",
      "3                                lyft_luxsuv  Lux Black XL  Lyft-Lux Black XL  \n",
      "4                                  lyft_plus       Lyft XL       Lyft-Lyft XL  \n",
      "...                                      ...           ...                ...  \n",
      "693066  6f72dfc5-27f1-42e8-84db-ccc7a75f6969        UberXL        Uber-UberXL  \n",
      "693067  55c66225-fbe7-4fd5-9072-eab1ece5e23e         UberX         Uber-UberX  \n",
      "693068  8cf7e821-f0d3-49c6-8eba-e679c0ebcf6a          Taxi          Uber-Taxi  \n",
      "693069  6d318bcc-22a3-4af6-bddd-b409bfce1546     Black SUV     Uber-Black SUV  \n",
      "693070  997acbb5-e102-41e1-b155-9df7de0a73f2      UberPool      Uber-UberPool  \n",
      "\n",
      "[693071 rows x 11 columns]>\n"
     ]
    }
   ],
   "source": [
    "#some of the products don't contains the brand, which may difficult to identify the product belongs to which brand, so add one more column to include the brand name into the product\n",
    "df[\"product_name\"] = df[\"cab_type\"] + \"-\" + df[\"name\"]\n",
    "print(df.product)"
   ]
  },
  {
   "cell_type": "code",
   "execution_count": 29,
   "id": "be4272e6",
   "metadata": {
    "scrolled": true
   },
   "outputs": [
    {
     "data": {
      "text/plain": [
       "array(['Lyft-Shared', 'Lyft-Lux', 'Lyft-Lyft', 'Lyft-Lux Black XL',\n",
       "       'Lyft-Lyft XL', 'Lyft-Lux Black', 'Uber-UberXL', 'Uber-Black',\n",
       "       'Uber-UberX', 'Uber-WAV', 'Uber-Black SUV', 'Uber-UberPool',\n",
       "       'Uber-Taxi'], dtype=object)"
      ]
     },
     "execution_count": 29,
     "metadata": {},
     "output_type": "execute_result"
    }
   ],
   "source": [
    "df.product_name.unique()"
   ]
  },
  {
   "cell_type": "code",
   "execution_count": 37,
   "id": "69943c96",
   "metadata": {},
   "outputs": [],
   "source": [
    "uber_regex=r\"\\w+-\\w+-\\w+-\\w+-\\w+\""
   ]
  },
  {
   "cell_type": "code",
   "execution_count": 46,
   "id": "a811a3bd",
   "metadata": {},
   "outputs": [
    {
     "ename": "IndentationError",
     "evalue": "expected an indented block (3628154102.py, line 3)",
     "output_type": "error",
     "traceback": [
      "\u001b[0;36m  Input \u001b[0;32mIn [46]\u001b[0;36m\u001b[0m\n\u001b[0;31m    mean = sum(values) / len(values)\u001b[0m\n\u001b[0m    ^\u001b[0m\n\u001b[0;31mIndentationError\u001b[0m\u001b[0;31m:\u001b[0m expected an indented block\n"
     ]
    }
   ],
   "source": [
    "def mean(values):\n",
    "#Write the mean() function\n",
    "mean = sum(values) / len(values)\n",
    "return mean"
   ]
  },
  {
   "cell_type": "code",
   "execution_count": 16,
   "id": "ea09d10e",
   "metadata": {},
   "outputs": [],
   "source": [
    "df_new[\"price\"] = df_new[\"price\"].fillna(method=\"bfill\")"
   ]
  },
  {
   "cell_type": "code",
   "execution_count": 17,
   "id": "40ca91c7",
   "metadata": {
    "scrolled": true
   },
   "outputs": [
    {
     "data": {
      "text/plain": [
       "distance            0\n",
       "cab_type            0\n",
       "time_stamp          0\n",
       "destination         0\n",
       "source              0\n",
       "price               0\n",
       "surge_multiplier    0\n",
       "id                  0\n",
       "product_id          0\n",
       "name                0\n",
       "product_name        0\n",
       "dtype: int64"
      ]
     },
     "execution_count": 17,
     "metadata": {},
     "output_type": "execute_result"
    }
   ],
   "source": [
    "df_new.isna().sum()"
   ]
  },
  {
   "cell_type": "code",
   "execution_count": 18,
   "id": "263a2f00",
   "metadata": {},
   "outputs": [],
   "source": [
    "# Create a dictionary mapping subgroup values to colors\n",
    "palette_colors = {\"Uber\": \"black\", \"Lyft\": \"magenta\"}"
   ]
  },
  {
   "cell_type": "code",
   "execution_count": 19,
   "id": "364a4259",
   "metadata": {},
   "outputs": [
    {
     "data": {
      "text/plain": [
       "<AxesSubplot:xlabel='cab_type', ylabel='count'>"
      ]
     },
     "execution_count": 19,
     "metadata": {},
     "output_type": "execute_result"
    },
    {
     "data": {
      "image/png": "[encoded data removed]",
      "text/plain": [
       "<Figure size 432x288 with 1 Axes>"
      ]
     },
     "metadata": {
      "needs_background": "light"
     },
     "output_type": "display_data"
    }
   ],
   "source": [
    "sns.countplot(x=\"cab_type\", data=df_new, palette=palette_colors)"
   ]
  },
  {
   "cell_type": "code",
   "execution_count": 20,
   "id": "d275e246",
   "metadata": {},
   "outputs": [],
   "source": [
    "Uber=df_new[df_new['cab_type']=='Uber']"
   ]
  },
  {
   "cell_type": "code",
   "execution_count": 21,
   "id": "a5f9fa8b",
   "metadata": {},
   "outputs": [],
   "source": [
    "Lyft=df_new[df_new['cab_type']=='Lyft']"
   ]
  },
  {
   "cell_type": "code",
   "execution_count": 23,
   "id": "21bf4679",
   "metadata": {},
   "outputs": [
    {
     "name": "stdout",
     "output_type": "stream",
     "text": [
      "<class 'pandas.core.frame.DataFrame'>\n",
      "RangeIndex: 693071 entries, 0 to 693070\n",
      "Data columns (total 11 columns):\n",
      " #   Column            Non-Null Count   Dtype  \n",
      "---  ------            --------------   -----  \n",
      " 0   distance          693071 non-null  float64\n",
      " 1   cab_type          693071 non-null  object \n",
      " 2   time_stamp        693071 non-null  int64  \n",
      " 3   destination       693071 non-null  object \n",
      " 4   source            693071 non-null  object \n",
      " 5   price             693071 non-null  float64\n",
      " 6   surge_multiplier  693071 non-null  float64\n",
      " 7   id                693071 non-null  object \n",
      " 8   product_id        693071 non-null  object \n",
      " 9   name              693071 non-null  object \n",
      " 10  product_name      693071 non-null  object \n",
      "dtypes: float64(3), int64(1), object(7)\n",
      "memory usage: 58.2+ MB\n"
     ]
    }
   ],
   "source": [
    "df_new.info()"
   ]
  },
  {
   "cell_type": "code",
   "execution_count": 34,
   "id": "04f86c97",
   "metadata": {},
   "outputs": [],
   "source": [
    "np_price_per_mile = np.array(df_new['price']) / np.array(df_new['distance'])"
   ]
  },
  {
   "cell_type": "code",
   "execution_count": 35,
   "id": "a703c8d6",
   "metadata": {},
   "outputs": [
    {
     "name": "stdout",
     "output_type": "stream",
     "text": [
      "[11.36363636 25.         15.90909091 ... 27.         27.\n",
      " 10.        ]\n"
     ]
    }
   ],
   "source": [
    "print(np_price_per_mile)"
   ]
  },
  {
   "cell_type": "code",
   "execution_count": 36,
   "id": "92e4a4a8",
   "metadata": {},
   "outputs": [
    {
     "name": "stdout",
     "output_type": "stream",
     "text": [
      "0         11.363636\n",
      "1         25.000000\n",
      "2         15.909091\n",
      "3         59.090909\n",
      "4         20.454545\n",
      "            ...    \n",
      "693066    13.000000\n",
      "693067     9.500000\n",
      "693068    27.000000\n",
      "693069    27.000000\n",
      "693070    10.000000\n",
      "Length: 693071, dtype: float64\n"
     ]
    }
   ],
   "source": [
    "print(df_new['price'] / df_new['distance'])"
   ]
  },
  {
   "cell_type": "code",
   "execution_count": null,
   "id": "b11b9ccb",
   "metadata": {},
   "outputs": [],
   "source": []
  }
 ],
 "metadata": {
  "kernelspec": {
   "display_name": "Python 3 (ipykernel)",
   "language": "python",
   "name": "python3"
  },
  "language_info": {
   "codemirror_mode": {
    "name": "ipython",
    "version": 3
   },
   "file_extension": ".py",
   "mimetype": "text/x-python",
   "name": "python",
   "nbconvert_exporter": "python",
   "pygments_lexer": "ipython3",
   "version": "3.9.12"
  }
 },
 "nbformat": 4,
 "nbformat_minor": 5
}
